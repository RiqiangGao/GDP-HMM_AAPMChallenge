{
 "cells": [
  {
   "cell_type": "markdown",
   "metadata": {},
   "source": [
    "## Files Needed for Final Submission (!IMPORTANT!)\n",
    "\n",
    "Please read our tutorial below to prepare the docker. **In the below example, we used `gdphmm` as the image ID, please change it to `your username` in the challenge platform**.  \n",
    "\n",
    "To win the awards, please compressed the below `sumission_package` with all neccesarry information as a single file submission. \n",
    "\n",
    "In the code package, the participants need to include a readme with command lines for inference.\n",
    "\n",
    "```\n",
    "submission_package/\n",
    "    ├── {username}_docker.tar.gz (optional, needed if not being included in a docker hub link in tech report)\n",
    "    ├── {username}_tech_report.pdf\n",
    "    └── train_test_code_trainedmodel.tar.gz (optional, needed if not being included in a github link in tech report)\n",
    "```\n",
    "\n",
    "Note the `{username}_docker.tar.gz` file is generated with `docker save` command if submitted through the challenge platform. \n",
    "\n",
    "If the participants choose to sumbit with github link and/or docker hub link, the solution cannot be updated after the challenge deadline and before the release of challenge results. "
   ]
  },
  {
   "cell_type": "markdown",
   "metadata": {},
   "source": [
    "# Files and Folder Structures for Test Phase (!IMPORTANT!)\n",
    "\n",
    "\n",
    "    1. All the input data will be stored in one folder, including json, csv, and npz files. \n",
    "\n",
    "```\n",
    "local_data_path/\n",
    "    ├── meta_data_test.csv\n",
    "    ├── PTV_DICT.json\n",
    "    ├── Pat_Obj_DICT.json\n",
    "    ├── ***.npz\n",
    "    ├── ***.npz\n",
    "    .....\n",
    "    └── ***.npz\n",
    "\n",
    "```\n",
    "\n",
    "    2. Since we will map the `local_data_path` to `/data` in docker, you need to set loader params of configure yaml file as below: \n",
    "\n",
    "```\n",
    "'csv_root': '/data/meta_data_test.csv'\n",
    "'scale_dose_dict': '/data/PTV_DICT.json'\n",
    "'pat_obj_dict': '/data/Pat_Obj_DICT.json'\n",
    "```"
   ]
  },
  {
   "cell_type": "markdown",
   "metadata": {},
   "source": [
    "# Docker Tutorial \n",
    "\n",
    "Below tutorial is based on Window WSL. Different operation systems should work similarly, but have not been tested by originzer. \n",
    "\n",
    "There are might be other ways can work well. Below just shows the orginazer's successful experience towards this challenge! "
   ]
  },
  {
   "cell_type": "markdown",
   "metadata": {},
   "source": [
    "### Step 1. Download the docker deskstop \n",
    "\n",
    "Following the steps here: https://docs.docker.com/desktop/features/wsl/. Especially pay attention to below steps: \n",
    "\n",
    "<p align=\"center\">\n",
    "  <img src='figs/docker/docker_install.png' width=\"800px\"/>\n",
    "</p>\n",
    "\n",
    "After you successfully install docker, you should be able to run `docker --help` and see something like below: \n",
    "\n",
    "<p align=\"center\">\n",
    "  <img src='figs/docker/docker_help.png' width=\"800px\"/>\n",
    "</p>"
   ]
  },
  {
   "cell_type": "markdown",
   "metadata": {},
   "source": [
    "### Step 2. Put the resources in a resonable structure\n",
    "\n",
    "How to structure the resources is related to how you write the Dockerfile. The example is based on directly clone this GitHub repo. If you have changed the file structure, you may need to change the Dockerfile correspondingly. "
   ]
  },
  {
   "cell_type": "markdown",
   "metadata": {},
   "source": [
    "### Step 3. Build the Docker \n",
    "\n",
    "The example command line is below: \n",
    "```\n",
    "docker build -t gdphmm .\n",
    "```\n",
    "\n",
    "`gdphmm` is the image ID and you can change it. Attention: you should have the `Dockerfile` and  `requirements.txt` under `./` if you follow this example here.  \n",
    "\n",
    "<p align=\"center\">\n",
    "  <img src='figs/docker/docker_build.png' width=\"800px\"/>\n",
    "</p>"
   ]
  },
  {
   "cell_type": "markdown",
   "metadata": {},
   "source": [
    "### Step 4. Run the docker\n",
    "\n",
    "```docker run --shm-size 8g --rm -v /local/path/to/data:/data -v /local/path/to/results:/results gdphmm```\n",
    "\n",
    "<p align=\"center\">\n",
    "  <img src='figs/docker/docker_run.png' width=\"800px\"/>\n",
    "</p>"
   ]
  },
  {
   "cell_type": "markdown",
   "metadata": {
    "vscode": {
     "languageId": "plaintext"
    }
   },
   "source": []
  },
  {
   "cell_type": "markdown",
   "metadata": {},
   "source": []
  }
 ],
 "metadata": {
  "kernelspec": {
   "display_name": "Python 3",
   "language": "python",
   "name": "python3"
  },
  "language_info": {
   "name": "python",
   "version": "3.6.8"
  }
 },
 "nbformat": 4,
 "nbformat_minor": 2
}
